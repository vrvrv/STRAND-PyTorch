{
 "cells": [
  {
   "cell_type": "code",
   "execution_count": 1,
   "id": "af2396f2-0ac0-4c6e-a41a-a0e3f0616b1c",
   "metadata": {},
   "outputs": [],
   "source": [
    "import os\n",
    "import h5py\n",
    "import torch\n",
    "import pickle\n",
    "import numpy as np\n",
    "import pandas as pd\n",
    "\n",
    "from src.strand.functions import *"
   ]
  },
  {
   "cell_type": "code",
   "execution_count": 2,
   "id": "3520174d-daca-4a0f-8c84-208e26f16e18",
   "metadata": {},
   "outputs": [],
   "source": [
    "def ckpt_to_csv_save(save_dir, ckpt):\n",
    "    os.makedirs(save_dir, exist_ok=True)\n",
    "    \n",
    "    t = logit_to_distribution(ckpt['state_dict']['_t']).numpy()\n",
    "    r = logit_to_distribution(ckpt['state_dict']['_r']).numpy()\n",
    "    e = logit_to_distribution(ckpt['state_dict']['_e']).numpy()\n",
    "    n = logit_to_distribution(ckpt['state_dict']['_n']).numpy()\n",
    "    c = logit_to_distribution(ckpt['state_dict']['_c']).numpy()\n",
    "\n",
    "    [[_cl, _cg], [_tl, _tg]] = ckpt['state_dict']['_T0']\n",
    "\n",
    "    cl = logit_to_distribution(_cl).numpy()\n",
    "    cg = logit_to_distribution(_cg).numpy()\n",
    "    tl = logit_to_distribution(_tl).numpy()\n",
    "    tg = logit_to_distribution(_tg).numpy()\n",
    "    \n",
    "    T = torch.stack([cl, cg, tl, tg], dim=0)\n",
    "\n",
    "    cl_table = pd.DataFrame(cl, columns = [f'rank_{i}' for i in range(1, rank+1)], index = [f'tri_{i}' for i in range(1, 97)])\n",
    "    cg_table = pd.DataFrame(cg, columns = [f'rank_{i}' for i in range(1, rank+1)], index = [f'tri_{i}' for i in range(1, 97)])\n",
    "    tl_table = pd.DataFrame(tl, columns = [f'rank_{i}' for i in range(1, rank+1)], index = [f'tri_{i}' for i in range(1, 97)])\n",
    "    tg_table = pd.DataFrame(tg, columns = [f'rank_{i}' for i in range(1, rank+1)], index = [f'tri_{i}' for i in range(1, 97)])\n",
    "\n",
    "\n",
    "    cl_table.to_csv(os.path.join(save_dir, \"cl.csv\"))\n",
    "    cg_table.to_csv(os.path.join(save_dir, \"cg.csv\"))\n",
    "    tl_table.to_csv(os.path.join(save_dir, \"tl.csv\"))\n",
    "    tg_table.to_csv(os.path.join(save_dir, \"tg.csv\"))\n",
    "\n",
    "    pd.DataFrame(\n",
    "        t, columns = [f'rank_{i}' for i in range(1, rank+1)], index = ['plus', 'minus']\n",
    "    ).to_csv(os.path.join(save_dir, \"t.csv\"))\n",
    "\n",
    "    pd.DataFrame(\n",
    "        r, columns = [f'rank_{i}' for i in range(1, rank+1)], index = ['plus', 'minus']\n",
    "    ).to_csv(os.path.join(save_dir, \"r.csv\"))\n",
    "\n",
    "    pd.DataFrame(\n",
    "        e, columns = [f'rank_{i}' for i in range(1, rank+1)]\n",
    "    ).to_csv(os.path.join(save_dir, \"e.csv\"))\n",
    "\n",
    "    pd.DataFrame(\n",
    "        n, columns = [f'rank_{i}' for i in range(1, rank+1)]\n",
    "    ).to_csv(os.path.join(save_dir, \"n.csv\"))\n",
    "\n",
    "    pd.DataFrame(\n",
    "        c, columns = [f'rank_{i}' for i in range(1, rank+1)]\n",
    "    ).to_csv(os.path.join(save_dir, \"c.csv\"))\n",
    "\n",
    "    pd.DataFrame(\n",
    "        logit_to_distribution(ckpt['state_dict']['lamb']).numpy(), \n",
    "        columns = [f'sample_{i}' for i in range(1, ckpt['state_dict']['lamb'].shape[1]+1)], \n",
    "        index = [f'rank_{i}' for i in range(1, rank+1)]\n",
    "    ).to_csv(os.path.join(save_dir, \"theta.csv\"))\n",
    "\n",
    "    pd.DataFrame(\n",
    "        ckpt['state_dict']['Sigma_mat'].numpy(), \n",
    "        columns = [f'rank_{i}' for i in range(1, rank)], \n",
    "        index = [f'rank_{i}' for i in range(1, rank)]\n",
    "    ).to_csv(os.path.join(save_dir, \"Sigma_matrix.csv\"))\n",
    "\n",
    "    pd.DataFrame(\n",
    "        ckpt['state_dict']['Xi'].numpy(), \n",
    "        columns = [f'feature_{i}' for i in range(1, ckpt['state_dict']['Xi'].shape[1]+1)], \n",
    "        index = [f'rank_{i}' for i in range(1, rank)]\n",
    "    ).to_csv(os.path.join(save_dir, \"Gamma.csv\"))\n",
    "\n",
    "\n",
    "    for r in range(1, rank):\n",
    "        zeta_r = ckpt['state_dict']['zeta'][r-1].numpy()\n",
    "        pd.DataFrame(\n",
    "            zeta_r, \n",
    "            columns = [f'feature_{i}' for i in range(1, zeta_r.shape[1]+1)], \n",
    "            index = [f'rank_{i}' for i in range(1, zeta_r.shape[1]+1)]\n",
    "        ).to_csv(os.path.join(save_dir, f\"zeta_rank_{r}.csv\"))\n",
    "        \n",
    "    pd.Series(\n",
    "        ckpt['state_dict']['sigma'].numpy(), \n",
    "        index = [f'rank_{i}' for i in range(1, rank)]\n",
    "    ).to_csv(os.path.join(save_dir, f\"sigma.csv\"))\n",
    "    \n",
    "    os.makedirs(os.path.join(save_dir, 'Delta'), exist_ok=True)\n",
    "    \n",
    "    Delta = np.transpose(ckpt['state_dict']['Delta'].numpy(), (0, 1, 2))\n",
    "    for n in range(Delta.shape[0]):\n",
    "        pd.DataFrame(\n",
    "            Delta[n], \n",
    "            columns = [f'rank_{i}' for i in range(1, rank)], \n",
    "            index = [f'rank_{i}' for i in range(1, rank)]\n",
    "        ).to_csv(os.path.join(save_dir, f\"Delta/Delta_{n}.csv\"))\n",
    "        \n",
    "def ckpt_to_hdf5_save(save_dir, ckpt):\n",
    "    \n",
    "    t = logit_to_distribution(ckpt['state_dict']['_t']).tolist()\n",
    "    r = logit_to_distribution(ckpt['state_dict']['_r']).tolist()\n",
    "    e = logit_to_distribution(ckpt['state_dict']['_e']).tolist()\n",
    "    n = logit_to_distribution(ckpt['state_dict']['_n']).tolist()\n",
    "    c = logit_to_distribution(ckpt['state_dict']['_c']).tolist()\n",
    "\n",
    "    [[_cl, _cg], [_tl, _tg]] = ckpt['state_dict']['_T0']\n",
    "\n",
    "    cl = logit_to_distribution(_cl)\n",
    "    cg = logit_to_distribution(_cg)\n",
    "    tl = logit_to_distribution(_tl)\n",
    "    tg = logit_to_distribution(_tg)\n",
    "\n",
    "    T = torch.stack([cl, cg, tl, tg]).reshape(2, 2, *cl.shape).tolist()\n",
    "    theta = logit_to_distribution(ckpt['state_dict']['lamb']).tolist()\n",
    "    Sigma_matrix = ckpt['state_dict']['Sigma_mat'].tolist()\n",
    "    Gamma = ckpt['state_dict']['Xi'].tolist()\n",
    "    zeta = ckpt['state_dict']['zeta'].tolist()\n",
    "    sigma = ckpt['state_dict']['sigma'].tolist()\n",
    "    Delta = ckpt['state_dict']['Delta'].permute(0, 1, 2).tolist()\n",
    "    \n",
    "    with h5py.File(save_dir, 'w') as hf:\n",
    "        hf['t'] = t\n",
    "        hf['r'] = r\n",
    "        hf['e'] = e\n",
    "        hf['n'] = n\n",
    "        hf['c'] = c\n",
    "\n",
    "        hf['T'] = T\n",
    "        hf['theta'] = theta\n",
    "        hf['Sigma_matrix'] = Sigma_matrix\n",
    "        hf['Gamma'] = Gamma\n",
    "        hf['zeta'] = zeta\n",
    "        hf['sigma'] = sigma\n",
    "        hf['Delta'] = Delta\n",
    "    "
   ]
  },
  {
   "cell_type": "markdown",
   "id": "1393f86b-ccb7-4d2b-898b-445fc4447ec1",
   "metadata": {
    "tags": []
   },
   "source": [
    "# PCAWG"
   ]
  },
  {
   "cell_type": "code",
   "execution_count": 9,
   "id": "4b897cc7-511c-4180-b7ee-874fdc67ffd9",
   "metadata": {},
   "outputs": [],
   "source": [
    "rank=18\n",
    "save_dir = f'result/pcawg/rank_{rank}_random.hdf5'\n",
    "\n",
    "ckpt = torch.load(f\"checkpoints/ts/random_init/rank_{rank}_3.ckpt\", map_location=torch.device('cpu'))\n",
    "ckpt_to_hdf5_save(save_dir, ckpt)"
   ]
  },
  {
   "cell_type": "code",
   "execution_count": 4,
   "id": "794979ad-25ff-44c8-8faa-3106ae710838",
   "metadata": {},
   "outputs": [],
   "source": [
    "import os"
   ]
  },
  {
   "cell_type": "code",
   "execution_count": 7,
   "id": "8fe743ac-b0a6-42a2-8917-8924f7e1742e",
   "metadata": {},
   "outputs": [
    {
     "data": {
      "text/plain": [
       "['rank_17_2.ckpt', 'rank_18_3.ckpt']"
      ]
     },
     "execution_count": 7,
     "metadata": {},
     "output_type": "execute_result"
    }
   ],
   "source": [
    "os.listdir(\"checkpoints/ts/random_init\")"
   ]
  },
  {
   "cell_type": "code",
   "execution_count": 5,
   "id": "f8fef63d-ab60-4659-8c23-a9fac9529f60",
   "metadata": {},
   "outputs": [
    {
     "data": {
      "text/plain": [
       "tensor([[0.4994, 0.4498, 0.5008, 0.5323, 0.5491, 0.5191, 0.5185, 0.5343, 0.4810,\n",
       "         0.5256, 0.5157, 0.3381, 0.5239, 0.5119, 0.3550, 0.4070, 0.7063],\n",
       "        [0.5006, 0.5502, 0.4992, 0.4677, 0.4509, 0.4809, 0.4815, 0.4657, 0.5190,\n",
       "         0.4744, 0.4843, 0.6619, 0.4761, 0.4881, 0.6450, 0.5930, 0.2937]])"
      ]
     },
     "execution_count": 5,
     "metadata": {},
     "output_type": "execute_result"
    }
   ],
   "source": [
    "logit_to_distribution(ckpt['state_dict']['_t'])"
   ]
  },
  {
   "cell_type": "code",
   "execution_count": null,
   "id": "72a214a5-2124-4722-b372-04350948fe96",
   "metadata": {},
   "outputs": [],
   "source": []
  },
  {
   "cell_type": "markdown",
   "id": "9d9d4806-9887-4b14-b70a-447f7e2201be",
   "metadata": {},
   "source": [
    "# Liver Sanger"
   ]
  },
  {
   "cell_type": "code",
   "execution_count": 5,
   "id": "27335142-73b7-4432-af43-d13a18e488aa",
   "metadata": {},
   "outputs": [],
   "source": [
    "rank=5\n",
    "save_dir = f'result/liver_sanger/rank_{rank}.hdf5'\n",
    "\n",
    "ckpt = torch.load(f\"checkpoints/liver_sanger/rank_{rank}.ckpt\", map_location=torch.device('cpu'))\n",
    "ckpt_to_hdf5_save(save_dir, ckpt)"
   ]
  },
  {
   "cell_type": "code",
   "execution_count": 70,
   "id": "1305ceb3-a5a8-4a22-bdc8-736f2bf062e9",
   "metadata": {},
   "outputs": [],
   "source": [
    "t = logit_to_distribution(ckpt['state_dict']['_t']).tolist()\n",
    "r = logit_to_distribution(ckpt['state_dict']['_r']).tolist()"
   ]
  },
  {
   "cell_type": "code",
   "execution_count": 71,
   "id": "4bc0b115-8f5b-4278-a5c3-b82568c73647",
   "metadata": {},
   "outputs": [
    {
     "data": {
      "text/plain": [
       "[[0.5403376221656799,\n",
       "  0.51839679479599,\n",
       "  0.5131873488426208,\n",
       "  0.5176110863685608,\n",
       "  0.5426681041717529,\n",
       "  0.3091532289981842,\n",
       "  0.355198472738266,\n",
       "  0.415740042924881,\n",
       "  0.5072880387306213,\n",
       "  0.2266566902399063,\n",
       "  0.41585785150527954,\n",
       "  0.7611361742019653,\n",
       "  0.5728378891944885,\n",
       "  0.5064380764961243,\n",
       "  0.6342465281486511,\n",
       "  0.6903036832809448,\n",
       "  0.5654654502868652,\n",
       "  0.41797691583633423,\n",
       "  0.48642638325691223,\n",
       "  0.5338994264602661],\n",
       " [0.45966237783432007,\n",
       "  0.4816032350063324,\n",
       "  0.48681262135505676,\n",
       "  0.4823889136314392,\n",
       "  0.45733192563056946,\n",
       "  0.6908467411994934,\n",
       "  0.6448014974594116,\n",
       "  0.5842599868774414,\n",
       "  0.4927119314670563,\n",
       "  0.7733433246612549,\n",
       "  0.5841421484947205,\n",
       "  0.23886382579803467,\n",
       "  0.42716214060783386,\n",
       "  0.49356192350387573,\n",
       "  0.3657534718513489,\n",
       "  0.3096962869167328,\n",
       "  0.43453454971313477,\n",
       "  0.5820230841636658,\n",
       "  0.5135735869407654,\n",
       "  0.4661006033420563]]"
      ]
     },
     "execution_count": 71,
     "metadata": {},
     "output_type": "execute_result"
    }
   ],
   "source": [
    "t"
   ]
  },
  {
   "cell_type": "code",
   "execution_count": 72,
   "id": "4bf10f81-eda6-4e11-b51e-cfb715146ba3",
   "metadata": {},
   "outputs": [
    {
     "data": {
      "text/plain": [
       "[[0.31347179412841797,\n",
       "  0.4840059280395508,\n",
       "  0.414541631937027,\n",
       "  0.5943647623062134,\n",
       "  0.4066096246242523,\n",
       "  0.7962986826896667,\n",
       "  0.5406166315078735,\n",
       "  0.7330820560455322,\n",
       "  0.4738008677959442,\n",
       "  0.826583981513977,\n",
       "  0.5489433407783508,\n",
       "  0.4846862554550171,\n",
       "  0.3440607190132141,\n",
       "  0.3364056348800659,\n",
       "  0.3707752525806427,\n",
       "  0.547705352306366,\n",
       "  0.5755954384803772,\n",
       "  0.563076376914978,\n",
       "  0.5055904984474182,\n",
       "  0.4124873876571655],\n",
       " [0.686528205871582,\n",
       "  0.5159940719604492,\n",
       "  0.5854583978652954,\n",
       "  0.40563520789146423,\n",
       "  0.5933904051780701,\n",
       "  0.20370131731033325,\n",
       "  0.45938339829444885,\n",
       "  0.2669179141521454,\n",
       "  0.5261991620063782,\n",
       "  0.17341600358486176,\n",
       "  0.4510566294193268,\n",
       "  0.5153137445449829,\n",
       "  0.6559392809867859,\n",
       "  0.6635943651199341,\n",
       "  0.6292247772216797,\n",
       "  0.45229464769363403,\n",
       "  0.4244045615196228,\n",
       "  0.43692365288734436,\n",
       "  0.4944094717502594,\n",
       "  0.5875126123428345]]"
      ]
     },
     "execution_count": 72,
     "metadata": {},
     "output_type": "execute_result"
    }
   ],
   "source": [
    "r"
   ]
  },
  {
   "cell_type": "code",
   "execution_count": null,
   "id": "22ff9410-2e3f-4775-8385-1e147ec6bc85",
   "metadata": {},
   "outputs": [],
   "source": []
  },
  {
   "cell_type": "markdown",
   "id": "40977ea0-0bbc-4bd4-bd82-4571284110cc",
   "metadata": {},
   "source": [
    "# Alzheimer"
   ]
  },
  {
   "cell_type": "code",
   "execution_count": 23,
   "id": "ef23c42f-13de-49ec-b909-0f687416b292",
   "metadata": {},
   "outputs": [],
   "source": [
    "save_dir = 'data.h5'"
   ]
  },
  {
   "cell_type": "code",
   "execution_count": null,
   "id": "41fc48d6-7822-4d55-acc3-fdce9a7a4334",
   "metadata": {},
   "outputs": [],
   "source": []
  },
  {
   "cell_type": "code",
   "execution_count": 48,
   "id": "876e31f8-e9d1-4e11-98a1-5af3f5343718",
   "metadata": {},
   "outputs": [
    {
     "ename": "IsADirectoryError",
     "evalue": "[Errno 21] Unable to create file (unable to open file: name = 'rrank_2.h5', errno = 21, error message = 'Is a directory', flags = 13, o_flags = 602)",
     "output_type": "error",
     "traceback": [
      "\u001b[0;31m---------------------------------------------------------------------------\u001b[0m",
      "\u001b[0;31mIsADirectoryError\u001b[0m                         Traceback (most recent call last)",
      "\u001b[0;32m/var/folders/rl/kkqd33bd07b_z50tws6691d80000gn/T/ipykernel_1738/638236066.py\u001b[0m in \u001b[0;36m<module>\u001b[0;34m\u001b[0m\n\u001b[1;32m      3\u001b[0m \u001b[0;34m\u001b[0m\u001b[0m\n\u001b[1;32m      4\u001b[0m \u001b[0mckpt\u001b[0m \u001b[0;34m=\u001b[0m \u001b[0mtorch\u001b[0m\u001b[0;34m.\u001b[0m\u001b[0mload\u001b[0m\u001b[0;34m(\u001b[0m\u001b[0;34mf\"checkpoints/alz/rank_{rank}.ckpt\"\u001b[0m\u001b[0;34m,\u001b[0m \u001b[0mmap_location\u001b[0m\u001b[0;34m=\u001b[0m\u001b[0mtorch\u001b[0m\u001b[0;34m.\u001b[0m\u001b[0mdevice\u001b[0m\u001b[0;34m(\u001b[0m\u001b[0;34m'cpu'\u001b[0m\u001b[0;34m)\u001b[0m\u001b[0;34m)\u001b[0m\u001b[0;34m\u001b[0m\u001b[0;34m\u001b[0m\u001b[0m\n\u001b[0;32m----> 5\u001b[0;31m \u001b[0mt\u001b[0m \u001b[0;34m=\u001b[0m \u001b[0mckpt_to_hdf5_save\u001b[0m\u001b[0;34m(\u001b[0m\u001b[0msave_dir\u001b[0m\u001b[0;34m,\u001b[0m \u001b[0mckpt\u001b[0m\u001b[0;34m)\u001b[0m\u001b[0;34m\u001b[0m\u001b[0;34m\u001b[0m\u001b[0m\n\u001b[0m",
      "\u001b[0;32m/var/folders/rl/kkqd33bd07b_z50tws6691d80000gn/T/ipykernel_1738/995061812.py\u001b[0m in \u001b[0;36mckpt_to_hdf5_save\u001b[0;34m(save_dir, ckpt)\u001b[0m\n\u001b[1;32m    114\u001b[0m     \u001b[0mDelta\u001b[0m \u001b[0;34m=\u001b[0m \u001b[0mckpt\u001b[0m\u001b[0;34m[\u001b[0m\u001b[0;34m'state_dict'\u001b[0m\u001b[0;34m]\u001b[0m\u001b[0;34m[\u001b[0m\u001b[0;34m'Delta'\u001b[0m\u001b[0;34m]\u001b[0m\u001b[0;34m.\u001b[0m\u001b[0mtolist\u001b[0m\u001b[0;34m(\u001b[0m\u001b[0;34m)\u001b[0m\u001b[0;34m\u001b[0m\u001b[0;34m\u001b[0m\u001b[0m\n\u001b[1;32m    115\u001b[0m \u001b[0;34m\u001b[0m\u001b[0m\n\u001b[0;32m--> 116\u001b[0;31m     \u001b[0;32mwith\u001b[0m \u001b[0mh5py\u001b[0m\u001b[0;34m.\u001b[0m\u001b[0mFile\u001b[0m\u001b[0;34m(\u001b[0m\u001b[0msave_dir\u001b[0m\u001b[0;34m,\u001b[0m \u001b[0;34m'w'\u001b[0m\u001b[0;34m)\u001b[0m \u001b[0;32mas\u001b[0m \u001b[0mhf\u001b[0m\u001b[0;34m:\u001b[0m\u001b[0;34m\u001b[0m\u001b[0;34m\u001b[0m\u001b[0m\n\u001b[0m\u001b[1;32m    117\u001b[0m         \u001b[0mhf\u001b[0m\u001b[0;34m[\u001b[0m\u001b[0;34m't'\u001b[0m\u001b[0;34m]\u001b[0m \u001b[0;34m=\u001b[0m \u001b[0mt\u001b[0m\u001b[0;34m\u001b[0m\u001b[0;34m\u001b[0m\u001b[0m\n\u001b[1;32m    118\u001b[0m         \u001b[0mhf\u001b[0m\u001b[0;34m[\u001b[0m\u001b[0;34m'r'\u001b[0m\u001b[0;34m]\u001b[0m \u001b[0;34m=\u001b[0m \u001b[0mr\u001b[0m\u001b[0;34m\u001b[0m\u001b[0;34m\u001b[0m\u001b[0m\n",
      "\u001b[0;32m~/miniconda3/envs/lightning/lib/python3.8/site-packages/h5py/_hl/files.py\u001b[0m in \u001b[0;36m__init__\u001b[0;34m(self, name, mode, driver, libver, userblock_size, swmr, rdcc_nslots, rdcc_nbytes, rdcc_w0, track_order, fs_strategy, fs_persist, fs_threshold, fs_page_size, page_buf_size, min_meta_keep, min_raw_keep, locking, **kwds)\u001b[0m\n\u001b[1;32m    505\u001b[0m                                  \u001b[0mfs_persist\u001b[0m\u001b[0;34m=\u001b[0m\u001b[0mfs_persist\u001b[0m\u001b[0;34m,\u001b[0m \u001b[0mfs_threshold\u001b[0m\u001b[0;34m=\u001b[0m\u001b[0mfs_threshold\u001b[0m\u001b[0;34m,\u001b[0m\u001b[0;34m\u001b[0m\u001b[0;34m\u001b[0m\u001b[0m\n\u001b[1;32m    506\u001b[0m                                  fs_page_size=fs_page_size)\n\u001b[0;32m--> 507\u001b[0;31m                 \u001b[0mfid\u001b[0m \u001b[0;34m=\u001b[0m \u001b[0mmake_fid\u001b[0m\u001b[0;34m(\u001b[0m\u001b[0mname\u001b[0m\u001b[0;34m,\u001b[0m \u001b[0mmode\u001b[0m\u001b[0;34m,\u001b[0m \u001b[0muserblock_size\u001b[0m\u001b[0;34m,\u001b[0m \u001b[0mfapl\u001b[0m\u001b[0;34m,\u001b[0m \u001b[0mfcpl\u001b[0m\u001b[0;34m,\u001b[0m \u001b[0mswmr\u001b[0m\u001b[0;34m=\u001b[0m\u001b[0mswmr\u001b[0m\u001b[0;34m)\u001b[0m\u001b[0;34m\u001b[0m\u001b[0;34m\u001b[0m\u001b[0m\n\u001b[0m\u001b[1;32m    508\u001b[0m \u001b[0;34m\u001b[0m\u001b[0m\n\u001b[1;32m    509\u001b[0m             \u001b[0;32mif\u001b[0m \u001b[0misinstance\u001b[0m\u001b[0;34m(\u001b[0m\u001b[0mlibver\u001b[0m\u001b[0;34m,\u001b[0m \u001b[0mtuple\u001b[0m\u001b[0;34m)\u001b[0m\u001b[0;34m:\u001b[0m\u001b[0;34m\u001b[0m\u001b[0;34m\u001b[0m\u001b[0m\n",
      "\u001b[0;32m~/miniconda3/envs/lightning/lib/python3.8/site-packages/h5py/_hl/files.py\u001b[0m in \u001b[0;36mmake_fid\u001b[0;34m(name, mode, userblock_size, fapl, fcpl, swmr)\u001b[0m\n\u001b[1;32m    224\u001b[0m         \u001b[0mfid\u001b[0m \u001b[0;34m=\u001b[0m \u001b[0mh5f\u001b[0m\u001b[0;34m.\u001b[0m\u001b[0mcreate\u001b[0m\u001b[0;34m(\u001b[0m\u001b[0mname\u001b[0m\u001b[0;34m,\u001b[0m \u001b[0mh5f\u001b[0m\u001b[0;34m.\u001b[0m\u001b[0mACC_EXCL\u001b[0m\u001b[0;34m,\u001b[0m \u001b[0mfapl\u001b[0m\u001b[0;34m=\u001b[0m\u001b[0mfapl\u001b[0m\u001b[0;34m,\u001b[0m \u001b[0mfcpl\u001b[0m\u001b[0;34m=\u001b[0m\u001b[0mfcpl\u001b[0m\u001b[0;34m)\u001b[0m\u001b[0;34m\u001b[0m\u001b[0;34m\u001b[0m\u001b[0m\n\u001b[1;32m    225\u001b[0m     \u001b[0;32melif\u001b[0m \u001b[0mmode\u001b[0m \u001b[0;34m==\u001b[0m \u001b[0;34m'w'\u001b[0m\u001b[0;34m:\u001b[0m\u001b[0;34m\u001b[0m\u001b[0;34m\u001b[0m\u001b[0m\n\u001b[0;32m--> 226\u001b[0;31m         \u001b[0mfid\u001b[0m \u001b[0;34m=\u001b[0m \u001b[0mh5f\u001b[0m\u001b[0;34m.\u001b[0m\u001b[0mcreate\u001b[0m\u001b[0;34m(\u001b[0m\u001b[0mname\u001b[0m\u001b[0;34m,\u001b[0m \u001b[0mh5f\u001b[0m\u001b[0;34m.\u001b[0m\u001b[0mACC_TRUNC\u001b[0m\u001b[0;34m,\u001b[0m \u001b[0mfapl\u001b[0m\u001b[0;34m=\u001b[0m\u001b[0mfapl\u001b[0m\u001b[0;34m,\u001b[0m \u001b[0mfcpl\u001b[0m\u001b[0;34m=\u001b[0m\u001b[0mfcpl\u001b[0m\u001b[0;34m)\u001b[0m\u001b[0;34m\u001b[0m\u001b[0;34m\u001b[0m\u001b[0m\n\u001b[0m\u001b[1;32m    227\u001b[0m     \u001b[0;32melif\u001b[0m \u001b[0mmode\u001b[0m \u001b[0;34m==\u001b[0m \u001b[0;34m'a'\u001b[0m\u001b[0;34m:\u001b[0m\u001b[0;34m\u001b[0m\u001b[0;34m\u001b[0m\u001b[0m\n\u001b[1;32m    228\u001b[0m         \u001b[0;31m# Open in append mode (read/write).\u001b[0m\u001b[0;34m\u001b[0m\u001b[0;34m\u001b[0m\u001b[0;34m\u001b[0m\u001b[0m\n",
      "\u001b[0;32mh5py/_objects.pyx\u001b[0m in \u001b[0;36mh5py._objects.with_phil.wrapper\u001b[0;34m()\u001b[0m\n",
      "\u001b[0;32mh5py/_objects.pyx\u001b[0m in \u001b[0;36mh5py._objects.with_phil.wrapper\u001b[0;34m()\u001b[0m\n",
      "\u001b[0;32mh5py/h5f.pyx\u001b[0m in \u001b[0;36mh5py.h5f.create\u001b[0;34m()\u001b[0m\n",
      "\u001b[0;31mIsADirectoryError\u001b[0m: [Errno 21] Unable to create file (unable to open file: name = 'rrank_2.h5', errno = 21, error message = 'Is a directory', flags = 13, o_flags = 602)"
     ]
    }
   ],
   "source": [
    "rank=2\n",
    "save_dir = f'rrank_{rank}.h5'\n",
    "\n",
    "ckpt = torch.load(f\"checkpoints/alz/rank_{rank}.ckpt\", map_location=torch.device('cpu'))\n",
    "t = ckpt_to_hdf5_save(save_dir, ckpt)"
   ]
  },
  {
   "cell_type": "code",
   "execution_count": 39,
   "id": "2d397517-c606-48ee-9ab0-5274f48a57ae",
   "metadata": {},
   "outputs": [
    {
     "data": {
      "text/plain": [
       "[[0.5392181341335761, 0.4732204995946458],\n",
       " [0.46078186586642395, 0.5267795004053542]]"
      ]
     },
     "execution_count": 39,
     "metadata": {},
     "output_type": "execute_result"
    }
   ],
   "source": [
    "t"
   ]
  },
  {
   "cell_type": "code",
   "execution_count": 45,
   "id": "cdedb672-6420-4803-9edf-e7f3c6c767f5",
   "metadata": {},
   "outputs": [],
   "source": [
    "with h5py.File('asdfsa.h5', 'w') as f:\n",
    "    f['t'] = t"
   ]
  },
  {
   "cell_type": "code",
   "execution_count": 44,
   "id": "d1d7d852-ef5a-493d-8ec1-08aa5b33fdfd",
   "metadata": {},
   "outputs": [],
   "source": [
    "f.close()"
   ]
  },
  {
   "cell_type": "code",
   "execution_count": 20,
   "id": "00a2e7e7-4b4a-4d67-aa73-a6cba3aa2e98",
   "metadata": {},
   "outputs": [],
   "source": [
    "rank=2\n",
    "save_dir = f'result/alz/rank_{rank}'\n",
    "\n",
    "ckpt = torch.load(f\"checkpoints/alz/rank_{rank}.ckpt\", map_location=torch.device('cpu'))\n",
    "ckpt_to_csv_save(save_dir, ckpt)\n"
   ]
  }
 ],
 "metadata": {
  "kernelspec": {
   "display_name": "Python 3 (ipykernel)",
   "language": "python",
   "name": "python3"
  },
  "language_info": {
   "codemirror_mode": {
    "name": "ipython",
    "version": 3
   },
   "file_extension": ".py",
   "mimetype": "text/x-python",
   "name": "python",
   "nbconvert_exporter": "python",
   "pygments_lexer": "ipython3",
   "version": "3.8.11"
  }
 },
 "nbformat": 4,
 "nbformat_minor": 5
}
