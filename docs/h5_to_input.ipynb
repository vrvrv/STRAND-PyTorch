{
 "cells": [
  {
   "cell_type": "code",
   "execution_count": 1,
   "id": "41c25d27-f2e6-4fcb-b962-2646ff1a6b6d",
   "metadata": {},
   "outputs": [],
   "source": [
    "import os\n",
    "import h5py\n",
    "import pickle\n",
    "import numpy as np"
   ]
  },
  {
   "cell_type": "code",
   "execution_count": 2,
   "id": "72bf68d8-8108-4325-a51a-2afd157d3393",
   "metadata": {},
   "outputs": [],
   "source": [
    "data_dir = \"data/liver_sanger\"\n",
    "file_name = \"liver_sanger.h5\"\n"
   ]
  },
  {
   "cell_type": "code",
   "execution_count": 3,
   "id": "ff9efc61-48fc-4488-bdc8-5cabfe810e0c",
   "metadata": {},
   "outputs": [],
   "source": [
    "\n",
    "with h5py.File(os.path.join(data_dir, file_name)) as f:\n",
    "    X = np.array(f['X'])\n",
    "    Y = np.transpose(f['count_tensor'])\n",
    "    \n",
    "with open(os.path.join(data_dir, \"feature.pkl\"), \"wb\") as f:\n",
    "    pickle.dump(X, f)\n",
    "        \n",
    "with open(os.path.join(data_dir, \"snv.pkl\"), \"wb\") as f:\n",
    "    pickle.dump(Y, f)"
   ]
  },
  {
   "cell_type": "code",
   "execution_count": 4,
   "id": "0e228978-1a55-4798-b6b3-772b86ba2b61",
   "metadata": {},
   "outputs": [
    {
     "data": {
      "text/plain": [
       "(15, 510)"
      ]
     },
     "execution_count": 4,
     "metadata": {},
     "output_type": "execute_result"
    }
   ],
   "source": [
    "X.shape"
   ]
  },
  {
   "cell_type": "code",
   "execution_count": 5,
   "id": "d6651c1c-42af-4338-88b9-bd5b38d30a30",
   "metadata": {},
   "outputs": [
    {
     "data": {
      "text/plain": [
       "(3, 3, 16, 4, 2, 96, 510)"
      ]
     },
     "execution_count": 5,
     "metadata": {},
     "output_type": "execute_result"
    }
   ],
   "source": [
    "Y.shape"
   ]
  },
  {
   "cell_type": "code",
   "execution_count": null,
   "id": "b24b896d-8274-48b5-97d7-a0918b9a26f1",
   "metadata": {},
   "outputs": [],
   "source": []
  }
 ],
 "metadata": {
  "kernelspec": {
   "display_name": "Python 3 (ipykernel)",
   "language": "python",
   "name": "python3"
  },
  "language_info": {
   "codemirror_mode": {
    "name": "ipython",
    "version": 3
   },
   "file_extension": ".py",
   "mimetype": "text/x-python",
   "name": "python",
   "nbconvert_exporter": "python",
   "pygments_lexer": "ipython3",
   "version": "3.8.11"
  }
 },
 "nbformat": 4,
 "nbformat_minor": 5
}
